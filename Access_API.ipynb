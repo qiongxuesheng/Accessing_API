{
 "cells": [
  {
   "cell_type": "code",
   "execution_count": 120,
   "metadata": {},
   "outputs": [],
   "source": [
    "import requests\n",
    "import pandas as pd\n",
    "import json\n",
    "import numpy as np"
   ]
  },
  {
   "cell_type": "code",
   "execution_count": 121,
   "metadata": {},
   "outputs": [
    {
     "name": "stdout",
     "output_type": "stream",
     "text": [
      "用户ID: ACMR\n",
      "公司列表路径： C://Users/Thinkpad/Desktop/Siemens/huatongren/company_list.xlsx\n",
      "编码： utf-8\n",
      "令牌： 7CBEAE6F606AFF464B1060500CD6241B\n",
      "接口： http://openapi.youedata.com/YEDAPIPUBTYC1002\n"
     ]
    },
    {
     "data": {
      "text/html": [
       "<div>\n",
       "<style scoped>\n",
       "    .dataframe tbody tr th:only-of-type {\n",
       "        vertical-align: middle;\n",
       "    }\n",
       "\n",
       "    .dataframe tbody tr th {\n",
       "        vertical-align: top;\n",
       "    }\n",
       "\n",
       "    .dataframe thead th {\n",
       "        text-align: right;\n",
       "    }\n",
       "</style>\n",
       "<table border=\"1\" class=\"dataframe\">\n",
       "  <thead>\n",
       "    <tr style=\"text-align: right;\">\n",
       "      <th></th>\n",
       "      <th>公司名称</th>\n",
       "    </tr>\n",
       "  </thead>\n",
       "  <tbody>\n",
       "    <tr>\n",
       "      <th>0</th>\n",
       "      <td>山东世精机械有限公司</td>\n",
       "    </tr>\n",
       "    <tr>\n",
       "      <th>1</th>\n",
       "      <td>山东大宏智能设备股份有限公司</td>\n",
       "    </tr>\n",
       "  </tbody>\n",
       "</table>\n",
       "</div>"
      ],
      "text/plain": [
       "             公司名称\n",
       "0      山东世精机械有限公司\n",
       "1  山东大宏智能设备股份有限公司"
      ]
     },
     "execution_count": 121,
     "metadata": {},
     "output_type": "execute_result"
    }
   ],
   "source": [
    "# load test data\n",
    "path = \"C://Users/Thinkpad/Desktop/Siemens/huatongren/company_list.xlsx\"\n",
    "company_list = pd.read_excel(path, sheet_name = \"test2\")\n",
    "encode = \"utf-8\"\n",
    "token = '7CBEAE6F606AFF464B1060500CD6241B'\n",
    "reqInterNme = \"http://openapi.youedata.com/YEDAPIPUBTYC1002\"\n",
    "test_data_list = list(company_list[\"公司名称\"])\n",
    "user_id = \"ACMR\"\n",
    "print(\"用户ID:\", user_id)\n",
    "print(\"公司列表路径：\", path)\n",
    "print(\"编码：\", encode)\n",
    "print(\"令牌：\", token)\n",
    "print(\"接口：\", reqInterNme)\n",
    "company_list"
   ]
  },
  {
   "cell_type": "code",
   "execution_count": 125,
   "metadata": {},
   "outputs": [
    {
     "name": "stdout",
     "output_type": "stream",
     "text": [
      "200\n",
      "\"{\"youeMsg\":\"成功并计费\",\"result\":{\"result\":{\"historyNames\":null,\"regStatus\":\"在业\",\"cancelDate\":null,\"regCapital\":\"1000万人民币\",\"staffNumRange\":\"小于50人\",\"industry\":\"通用设备制造业\",\"bondNum\":null,\"type\":1,\"bondName\":null,\"revokeDate\":null,\"legalPersonName\":\"孙栋栋\",\"revokeReason\":null,\"regNumber\":\"371425200008075\",\"creditCode\":\"91371425071322330B\",\"property3\":null,\"usedBondName\":null,\"fromTime\":1371571200000,\"approvedTime\":1570723200000,\"socialStaffNum\":6,\"alias\":\"世精机械\",\"companyOrgType\":\"其他有限责任公司\",\"actualCapitalCurrency\":null,\"id\":651324406,\"orgNumber\":\"071322330\",\"cancelReason\":null,\"toTime\":2949321600000,\"actualCapital\":\"-\",\"estiblishTime\":1371571200000,\"regInstitute\":\"齐河县市场监督管理局\",\"taxNumber\":\"91371425071322330B\",\"businessScope\":\"泵、阀门、真空设备、工业控制设备、包装设备、机械零部件、金属切削机床、液压和气压动力机械及元件、齿轮、齿轮传动装置、风动工具、电动工具、冶金专用设备的研发、制造、销售及进出口业务；自动化控制技术、计量控制技术、流体控制技术的技术转让、技术咨询、技术服务；电力供应；物业管理。（依法须经批准的项目，经相关部门批准后方可开展经营活动）\",\"regLocation\":\"齐河县华店乡华店创业园兴华路中段\",\"regCapitalCurrency\":null,\"tags\":null,\"name\":\"山东世精机械有限公司\",\"bondType\":null,\"percentileScore\":7951,\"industryAll\":{\"categoryMiddle\":\"  泵、阀门、压缩机及类似机械制造\",\"categoryBig\":\"通用设备制造业\",\"category\":\"制造业\",\"categorySmall\":\"\"},\"isMicroEnt\":1,\"base\":\"sd\"},\"reason\":\"ok\",\"error_code\":0},\"youeCode\":\"20050\",\"youeSerialNo\":\"9f62481bd7404a3f85bce8600eb93add\"}\"\n",
      "山东世精机械有限公司  load\n",
      "200\n",
      "\"{\"youeMsg\":\"成功并计费\",\"result\":{\"result\":{\"historyNames\":\"济南大宏机器有限公司\\t\",\"regStatus\":\"在业\",\"cancelDate\":null,\"regCapital\":\"700万人民币\",\"staffNumRange\":\"60\",\"bondNum\":\"836635\",\"industry\":\"机械设备—专用设备\",\"type\":1,\"bondName\":\"大宏智能\",\"revokeDate\":null,\"legalPersonName\":\"杨德盛\",\"revokeReason\":null,\"regNumber\":\"370104200010155\",\"property3\":\"Shandong Dyehome Intelligent Equipment Co.,Ltd.\",\"creditCode\":\"91370104774160227E\",\"usedBondName\":\"-\",\"approvedTime\":1565107200000,\"fromTime\":1113840000000,\"socialStaffNum\":49,\"alias\":\"大宏智能\",\"companyOrgType\":\"股份有限公司(非上市、自然人投资或控股)\",\"actualCapitalCurrency\":null,\"id\":2347282857,\"orgNumber\":\"774160227\",\"cancelReason\":null,\"toTime\":null,\"actualCapital\":\"700万人民币\",\"estiblishTime\":1113840000000,\"regInstitute\":\"济南市槐荫区市场监督管理局\",\"businessScope\":\"自动化输送系统、包装专用设备、智能机器人的设计、制造、安装、销售、调试、维修；机械零部件加工、销售；计算机软件技术开发、技术转让、技术咨询、技术服务；机械加工；包装材料、打包机、建筑材料、五金交电、汽车用品、立体车库的销售；太阳能设备的生产、销售、安装；进出口业务。（依法须经批准的项目，经相关部门批准后方可开展经营活动）\",\"taxNumber\":\"91370104774160227E\",\"regLocation\":\"济南市槐荫区清河北路新沙工业园南区2街1号\",\"regCapitalCurrency\":null,\"tags\":\"新三板\\t;\",\"name\":\"山东大宏智能设备股份有限公司\",\"bondType\":\"新三板\",\"percentileScore\":6836,\"industryAll\":{\"categoryMiddle\":\"  烘炉、风机、衡器、包装等设备制造\",\"categoryBig\":\"通用设备制造业\",\"category\":\"制造业\",\"categorySmall\":\"\"},\"isMicroEnt\":1,\"base\":\"sd\"},\"reason\":\"ok\",\"error_code\":0},\"youeCode\":\"20050\",\"youeSerialNo\":\"7c8c6470a95b485f8e655546c130dd81\"}\"\n",
      "山东大宏智能设备股份有限公司  load\n",
      "所有数据已经读入result_list!\n"
     ]
    }
   ],
   "source": [
    "#设置请求URL\n",
    "result_list = []\n",
    "for i in test_data_list:   \n",
    "    paramStr = f'name={i}'\n",
    "    url = reqInterNme + \"?Y_TOKEN=\" + token + \"&\" + paramStr + \"&\" + \"off_on=off_on\" + \"&\" + \"CONSUMER_USER_ID=\" + user_id + \"&\" + \"Y_TOKEN=\" + token + paramStr ;\n",
    "    response = requests.get(url)\n",
    "    \n",
    "    #结果返回处理\n",
    "    print(response.status_code)\n",
    "    resultJson = json.dumps(str(response.content, encoding = encode))\n",
    "    # convert unicode to chinese\n",
    "    resultJson = resultJson.encode(encode).decode(\"unicode-escape\")\n",
    "    print(resultJson)\n",
    "    result_list.append(resultJson)\n",
    "    print(i, \" load\") \n",
    "print(\"所有数据已经读入result_list!\")"
   ]
  },
  {
   "cell_type": "code",
   "execution_count": 123,
   "metadata": {},
   "outputs": [
    {
     "data": {
      "text/plain": [
       "['\"{\"youeMsg\":\"成功并计费\",\"result\":{\"result\":{\"historyNames\":null,\"regStatus\":\"在业\",\"cancelDate\":null,\"regCapital\":\"1000万人民币\",\"staffNumRange\":\"小于50人\",\"industry\":\"通用设备制造业\",\"bondNum\":null,\"type\":1,\"bondName\":null,\"revokeDate\":null,\"legalPersonName\":\"孙栋栋\",\"revokeReason\":null,\"regNumber\":\"371425200008075\",\"creditCode\":\"91371425071322330B\",\"property3\":null,\"usedBondName\":null,\"fromTime\":1371571200000,\"approvedTime\":1570723200000,\"socialStaffNum\":6,\"alias\":\"世精机械\",\"companyOrgType\":\"其他有限责任公司\",\"actualCapitalCurrency\":null,\"id\":651324406,\"orgNumber\":\"071322330\",\"cancelReason\":null,\"toTime\":2949321600000,\"actualCapital\":\"-\",\"estiblishTime\":1371571200000,\"regInstitute\":\"齐河县市场监督管理局\",\"taxNumber\":\"91371425071322330B\",\"businessScope\":\"泵、阀门、真空设备、工业控制设备、包装设备、机械零部件、金属切削机床、液压和气压动力机械及元件、齿轮、齿轮传动装置、风动工具、电动工具、冶金专用设备的研发、制造、销售及进出口业务；自动化控制技术、计量控制技术、流体控制技术的技术转让、技术咨询、技术服务；电力供应；物业管理。（依法须经批准的项目，经相关部门批准后方可开展经营活动）\",\"regLocation\":\"齐河县华店乡华店创业园兴华路中段\",\"regCapitalCurrency\":null,\"tags\":null,\"name\":\"山东世精机械有限公司\",\"bondType\":null,\"percentileScore\":7951,\"industryAll\":{\"categoryMiddle\":\"  泵、阀门、压缩机及类似机械制造\",\"categoryBig\":\"通用设备制造业\",\"category\":\"制造业\",\"categorySmall\":\"\"},\"isMicroEnt\":1,\"base\":\"sd\"},\"reason\":\"ok\",\"error_code\":0},\"youeCode\":\"20050\",\"youeSerialNo\":\"e20cd1ac0f604ba5955c4ec746ea3007\"}\"',\n",
       " '\"{\"youeMsg\":\"成功并计费\",\"result\":{\"result\":{\"historyNames\":\"济南大宏机器有限公司\\\\t\",\"regStatus\":\"在业\",\"cancelDate\":null,\"regCapital\":\"700万人民币\",\"staffNumRange\":\"60\",\"bondNum\":\"836635\",\"industry\":\"机械设备—专用设备\",\"type\":1,\"bondName\":\"大宏智能\",\"revokeDate\":null,\"legalPersonName\":\"杨德盛\",\"revokeReason\":null,\"regNumber\":\"370104200010155\",\"property3\":\"Shandong Dyehome Intelligent Equipment Co.,Ltd.\",\"creditCode\":\"91370104774160227E\",\"usedBondName\":\"-\",\"approvedTime\":1565107200000,\"fromTime\":1113840000000,\"socialStaffNum\":49,\"alias\":\"大宏智能\",\"companyOrgType\":\"股份有限公司(非上市、自然人投资或控股)\",\"actualCapitalCurrency\":null,\"id\":2347282857,\"orgNumber\":\"774160227\",\"cancelReason\":null,\"toTime\":null,\"actualCapital\":\"700万人民币\",\"estiblishTime\":1113840000000,\"regInstitute\":\"济南市槐荫区市场监督管理局\",\"businessScope\":\"自动化输送系统、包装专用设备、智能机器人的设计、制造、安装、销售、调试、维修；机械零部件加工、销售；计算机软件技术开发、技术转让、技术咨询、技术服务；机械加工；包装材料、打包机、建筑材料、五金交电、汽车用品、立体车库的销售；太阳能设备的生产、销售、安装；进出口业务。（依法须经批准的项目，经相关部门批准后方可开展经营活动）\",\"taxNumber\":\"91370104774160227E\",\"regLocation\":\"济南市槐荫区清河北路新沙工业园南区2街1号\",\"regCapitalCurrency\":null,\"tags\":\"新三板\\\\t;\",\"name\":\"山东大宏智能设备股份有限公司\",\"bondType\":\"新三板\",\"percentileScore\":6836,\"industryAll\":{\"categoryMiddle\":\"  烘炉、风机、衡器、包装等设备制造\",\"categoryBig\":\"通用设备制造业\",\"category\":\"制造业\",\"categorySmall\":\"\"},\"isMicroEnt\":1,\"base\":\"sd\"},\"reason\":\"ok\",\"error_code\":0},\"youeCode\":\"20050\",\"youeSerialNo\":\"8899aea488f24e4a9e1335711e784ccc\"}\"']"
      ]
     },
     "execution_count": 123,
     "metadata": {},
     "output_type": "execute_result"
    }
   ],
   "source": [
    "result_list"
   ]
  },
  {
   "cell_type": "code",
   "execution_count": 105,
   "metadata": {},
   "outputs": [],
   "source": [
    "df = pd.DataFrame()\n",
    "for i in range(len(result_list)):\n",
    "              df =  df.append(pd.DataFrame(pd.Series(json.loads(result_list[i][1:-1])[\"result\"][\"result\"])).T)"
   ]
  },
  {
   "cell_type": "code",
   "execution_count": 106,
   "metadata": {
    "scrolled": true
   },
   "outputs": [
    {
     "data": {
      "text/html": [
       "<div>\n",
       "<style scoped>\n",
       "    .dataframe tbody tr th:only-of-type {\n",
       "        vertical-align: middle;\n",
       "    }\n",
       "\n",
       "    .dataframe tbody tr th {\n",
       "        vertical-align: top;\n",
       "    }\n",
       "\n",
       "    .dataframe thead th {\n",
       "        text-align: right;\n",
       "    }\n",
       "</style>\n",
       "<table border=\"1\" class=\"dataframe\">\n",
       "  <thead>\n",
       "    <tr style=\"text-align: right;\">\n",
       "      <th></th>\n",
       "      <th>historyNames</th>\n",
       "      <th>regStatus</th>\n",
       "      <th>cancelDate</th>\n",
       "      <th>regCapital</th>\n",
       "      <th>staffNumRange</th>\n",
       "      <th>industry</th>\n",
       "      <th>bondNum</th>\n",
       "      <th>type</th>\n",
       "      <th>bondName</th>\n",
       "      <th>revokeDate</th>\n",
       "      <th>...</th>\n",
       "      <th>businessScope</th>\n",
       "      <th>regLocation</th>\n",
       "      <th>regCapitalCurrency</th>\n",
       "      <th>tags</th>\n",
       "      <th>name</th>\n",
       "      <th>bondType</th>\n",
       "      <th>percentileScore</th>\n",
       "      <th>industryAll</th>\n",
       "      <th>isMicroEnt</th>\n",
       "      <th>base</th>\n",
       "    </tr>\n",
       "  </thead>\n",
       "  <tbody>\n",
       "    <tr>\n",
       "      <th>0</th>\n",
       "      <td>None</td>\n",
       "      <td>在业</td>\n",
       "      <td>None</td>\n",
       "      <td>1000万人民币</td>\n",
       "      <td>小于50人</td>\n",
       "      <td>通用设备制造业</td>\n",
       "      <td>None</td>\n",
       "      <td>1</td>\n",
       "      <td>None</td>\n",
       "      <td>None</td>\n",
       "      <td>...</td>\n",
       "      <td>泵、阀门、真空设备、工业控制设备、包装设备、机械零部件、金属切削机床、液压和气压动力机械及元...</td>\n",
       "      <td>齐河县华店乡华店创业园兴华路中段</td>\n",
       "      <td>None</td>\n",
       "      <td>None</td>\n",
       "      <td>山东世精机械有限公司</td>\n",
       "      <td>None</td>\n",
       "      <td>7951</td>\n",
       "      <td>{'categoryMiddle': '  泵、阀门、压缩机及类似机械制造', 'categ...</td>\n",
       "      <td>1</td>\n",
       "      <td>sd</td>\n",
       "    </tr>\n",
       "    <tr>\n",
       "      <th>0</th>\n",
       "      <td>济南大宏机器有限公司\\t</td>\n",
       "      <td>在业</td>\n",
       "      <td>None</td>\n",
       "      <td>700万人民币</td>\n",
       "      <td>60</td>\n",
       "      <td>机械设备—专用设备</td>\n",
       "      <td>836635</td>\n",
       "      <td>1</td>\n",
       "      <td>大宏智能</td>\n",
       "      <td>None</td>\n",
       "      <td>...</td>\n",
       "      <td>自动化输送系统、包装专用设备、智能机器人的设计、制造、安装、销售、调试、维修；机械零部件加工...</td>\n",
       "      <td>济南市槐荫区清河北路新沙工业园南区2街1号</td>\n",
       "      <td>None</td>\n",
       "      <td>新三板\\t;</td>\n",
       "      <td>山东大宏智能设备股份有限公司</td>\n",
       "      <td>新三板</td>\n",
       "      <td>6836</td>\n",
       "      <td>{'categoryMiddle': '  烘炉、风机、衡器、包装等设备制造', 'cate...</td>\n",
       "      <td>1</td>\n",
       "      <td>sd</td>\n",
       "    </tr>\n",
       "  </tbody>\n",
       "</table>\n",
       "<p>2 rows × 40 columns</p>\n",
       "</div>"
      ],
      "text/plain": [
       "   historyNames regStatus cancelDate regCapital staffNumRange   industry  \\\n",
       "0          None        在业       None   1000万人民币         小于50人    通用设备制造业   \n",
       "0  济南大宏机器有限公司\\t        在业       None    700万人民币            60  机械设备—专用设备   \n",
       "\n",
       "  bondNum type bondName revokeDate  ...  \\\n",
       "0    None    1     None       None  ...   \n",
       "0  836635    1     大宏智能       None  ...   \n",
       "\n",
       "                                       businessScope            regLocation  \\\n",
       "0  泵、阀门、真空设备、工业控制设备、包装设备、机械零部件、金属切削机床、液压和气压动力机械及元...       齐河县华店乡华店创业园兴华路中段   \n",
       "0  自动化输送系统、包装专用设备、智能机器人的设计、制造、安装、销售、调试、维修；机械零部件加工...  济南市槐荫区清河北路新沙工业园南区2街1号   \n",
       "\n",
       "  regCapitalCurrency    tags            name bondType percentileScore  \\\n",
       "0               None    None      山东世精机械有限公司     None            7951   \n",
       "0               None  新三板\\t;  山东大宏智能设备股份有限公司      新三板            6836   \n",
       "\n",
       "                                         industryAll isMicroEnt base  \n",
       "0  {'categoryMiddle': '  泵、阀门、压缩机及类似机械制造', 'categ...          1   sd  \n",
       "0  {'categoryMiddle': '  烘炉、风机、衡器、包装等设备制造', 'cate...          1   sd  \n",
       "\n",
       "[2 rows x 40 columns]"
      ]
     },
     "execution_count": 106,
     "metadata": {},
     "output_type": "execute_result"
    }
   ],
   "source": [
    "df.head()"
   ]
  },
  {
   "cell_type": "code",
   "execution_count": 107,
   "metadata": {},
   "outputs": [],
   "source": [
    "df.set_index(\"name\", inplace = True)\n",
    "df.to_excel(\"C://Users/Thinkpad/Desktop/经营-企业基本信息v1.xlsx\", sheet_name=\"经营-企业基本信息v1\", index=True, encoding=\"utf-8\")"
   ]
  },
  {
   "cell_type": "code",
   "execution_count": 99,
   "metadata": {},
   "outputs": [
    {
     "data": {
      "text/plain": [
       "{'historyNames': None,\n",
       " 'regStatus': '在业',\n",
       " 'cancelDate': None,\n",
       " 'regCapital': '1000万人民币',\n",
       " 'staffNumRange': '小于50人',\n",
       " 'industry': '通用设备制造业',\n",
       " 'bondNum': None,\n",
       " 'type': 1,\n",
       " 'bondName': None,\n",
       " 'revokeDate': None,\n",
       " 'legalPersonName': '孙栋栋',\n",
       " 'revokeReason': None,\n",
       " 'regNumber': '371425200008075',\n",
       " 'creditCode': '91371425071322330B',\n",
       " 'property3': None,\n",
       " 'usedBondName': None,\n",
       " 'fromTime': 1371571200000,\n",
       " 'approvedTime': 1570723200000,\n",
       " 'socialStaffNum': 6,\n",
       " 'alias': '世精机械',\n",
       " 'companyOrgType': '其他有限责任公司',\n",
       " 'actualCapitalCurrency': None,\n",
       " 'id': 651324406,\n",
       " 'orgNumber': '071322330',\n",
       " 'cancelReason': None,\n",
       " 'toTime': 2949321600000,\n",
       " 'actualCapital': '-',\n",
       " 'estiblishTime': 1371571200000,\n",
       " 'regInstitute': '齐河县市场监督管理局',\n",
       " 'taxNumber': '91371425071322330B',\n",
       " 'businessScope': '泵、阀门、真空设备、工业控制设备、包装设备、机械零部件、金属切削机床、液压和气压动力机械及元件、齿轮、齿轮传动装置、风动工具、电动工具、冶金专用设备的研发、制造、销售及进出口业务；自动化控制技术、计量控制技术、流体控制技术的技术转让、技术咨询、技术服务；电力供应；物业管理。（依法须经批准的项目，经相关部门批准后方可开展经营活动）',\n",
       " 'regLocation': '齐河县华店乡华店创业园兴华路中段',\n",
       " 'regCapitalCurrency': None,\n",
       " 'tags': None,\n",
       " 'name': '山东世精机械有限公司',\n",
       " 'bondType': None,\n",
       " 'percentileScore': 7951,\n",
       " 'industryAll': {'categoryMiddle': '  泵、阀门、压缩机及类似机械制造',\n",
       "  'categoryBig': '通用设备制造业',\n",
       "  'category': '制造业',\n",
       "  'categorySmall': ''},\n",
       " 'isMicroEnt': 1,\n",
       " 'base': 'sd'}"
      ]
     },
     "execution_count": 99,
     "metadata": {},
     "output_type": "execute_result"
    }
   ],
   "source": [
    "json.loads(result_list[0][1:-1])[\"result\"][\"result\"]"
   ]
  },
  {
   "cell_type": "code",
   "execution_count": null,
   "metadata": {},
   "outputs": [],
   "source": []
  }
 ],
 "metadata": {
  "kernelspec": {
   "display_name": "Python 3",
   "language": "python",
   "name": "python3"
  },
  "language_info": {
   "codemirror_mode": {
    "name": "ipython",
    "version": 3
   },
   "file_extension": ".py",
   "mimetype": "text/x-python",
   "name": "python",
   "nbconvert_exporter": "python",
   "pygments_lexer": "ipython3",
   "version": "3.7.6"
  }
 },
 "nbformat": 4,
 "nbformat_minor": 4
}
